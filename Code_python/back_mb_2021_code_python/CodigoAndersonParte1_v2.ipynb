{
  "nbformat": 4,
  "nbformat_minor": 0,
  "metadata": {
    "kernelspec": {
      "display_name": "Python 3",
      "language": "python",
      "name": "python3"
    },
    "language_info": {
      "codemirror_mode": {
        "name": "ipython",
        "version": 3
      },
      "file_extension": ".py",
      "mimetype": "text/x-python",
      "name": "python",
      "nbconvert_exporter": "python",
      "pygments_lexer": "ipython3",
      "version": "3.7.1"
    },
    "colab": {
      "name": "CodigoAndersonParte1_v2.ipynb",
      "provenance": []
    }
  },
  "cells": [
    {
      "cell_type": "code",
      "metadata": {
        "id": "gg80020AG-W-"
      },
      "source": [
        "## Importa as bibliotecas iniciais a serem utilizadas \n",
        "import numpy as np\n",
        "import scipy.io as sio\n",
        "from skimage import exposure\n",
        "import matplotlib as mpl\n",
        "import matplotlib.pyplot as plt"
      ],
      "execution_count": 1,
      "outputs": []
    },
    {
      "cell_type": "code",
      "metadata": {
        "id": "mFHgdYEeG-XC"
      },
      "source": [
        "## Define a imagem a ser processada\n",
        "\n",
        "def select_data():\n",
        "    print(\"Select the image to be processed:\")\n",
        "    print(\"1.Flevoland - area 1\")\n",
        "    print(\"2.San Francisco\")\n",
        "    opcao=int(input(\"type the option:\"))\n",
        "    if opcao==1:\n",
        "        imagem=\"./Data/AirSAR_Flevoland_Enxuto.mat\"\n",
        "        ## Valores ajustados visualmente - precisa definir o valor do centro da rea corretamente\n",
        "        dx=278 \n",
        "        dy=70 \n",
        "    else:\n",
        "        imagem=\"./Data/SanFrancisco_Bay.mat\"\n",
        "        dx=50\n",
        "        dy=-195\n",
        "    ## Raio usado nas radias\n",
        "    RAIO=120\n",
        "    ## Numero de raios utilizado na definicao de bordas para circunferencia completa\n",
        "    NUM_RAIOS=100\n",
        "    ## angulo inicial para gerar as radiais\n",
        "    alpha_i=0.0\n",
        "    ## angulo final para gerar as radiais\n",
        "    alpha_f=2*np.pi\n",
        "    ## ajusta o numero de raios de acordo com o angulo\n",
        "    if (alpha_f-alpha_i)!=(2*np.pi):\n",
        "        NUM_RAIOS=int(NUM_RAIOS*(alpha_f-alpha_i)/(2*np.pi))\n",
        "    \n",
        "    return imagem, dx, dy, RAIO, NUM_RAIOS, alpha_i, alpha_f"
      ],
      "execution_count": 2,
      "outputs": []
    },
    {
      "cell_type": "code",
      "metadata": {
        "id": "nZ-eKMyxG-XD"
      },
      "source": [
        "## Le uma imagem no formato mat\n",
        "def le_imagem(img_geral):\n",
        "    img=sio.loadmat(img_geral)\n",
        "    img_dat=img['S']\n",
        "    img_dat=np.squeeze(img_dat)\n",
        "    img_shp=img_dat.shape\n",
        "    ## print(img_shp)\n",
        "    ncols=img_shp[1]\n",
        "    nrows=img_shp[0]\n",
        "    nc=img_shp[len(img_shp)-1]\n",
        "    return img_dat, nrows, ncols, nc"
      ],
      "execution_count": 3,
      "outputs": []
    },
    {
      "cell_type": "code",
      "metadata": {
        "id": "sotX1j8AG-XD"
      },
      "source": [
        "## Separa os canais e retorn uma imagem de visualizacao\n",
        "def show_Pauli(data, index, control):\n",
        "    Ihh = np.real(data[:,:,0])\n",
        "    Ihv = np.real(data[:,:,1])\n",
        "    Ivv = np.real(data[:,:,2])\n",
        "    Ihh=np.sqrt(np.abs(Ihh))\n",
        "    Ihv=np.sqrt(np.abs(Ihv))/np.sqrt(2)\n",
        "    Ivv=np.sqrt(np.abs(Ivv))\n",
        "    R = np.abs(Ihh - Ivv)\n",
        "    G = (2*Ihv)\n",
        "    B =  np.abs(Ihh + Ivv)\n",
        "    R = exposure.equalize_hist(R)\n",
        "    G = exposure.equalize_hist(G)\n",
        "    B = exposure.equalize_hist(B)\n",
        "    II = np.dstack((R,G,B))\n",
        "    HSV = mpl.colors.rgb_to_hsv(II)\n",
        "    Heq = exposure.equalize_hist(HSV[:,:,2])\n",
        "    HSV_mod = HSV\n",
        "    HSV_mod[:,:,2] = Heq\n",
        "    Pauli_Image= mpl.colors.rgb_to_hsv(HSV_mod)\n",
        "    return Pauli_Image"
      ],
      "execution_count": 4,
      "outputs": []
    },
    {
      "cell_type": "code",
      "metadata": {
        "id": "1lC2CPSdG-XE"
      },
      "source": [
        "## Define as radiais\n",
        "def define_radiais(r, num_r, dx, dy, nrows, ncols, start, end):\n",
        "    x0 = ncols / 2 - dx\n",
        "    y0 = nrows / 2 - dy\n",
        "    t = np.linspace(start, end, num_r, endpoint=True) \n",
        "    x = x0 + r * np.cos(t)\n",
        "    y = y0 + r * np.sin(t)\n",
        "    xr= np.round(x)\n",
        "    yr= np.round(y)\n",
        "    return x0, y0, xr, yr"
      ],
      "execution_count": 5,
      "outputs": []
    },
    {
      "cell_type": "code",
      "metadata": {
        "id": "BPCeFjoVG-XE"
      },
      "source": [
        "## Bresenham\n",
        "def bresenham(x0, y0, xf, yf):\n",
        "    x=xf-x0\n",
        "    y=yf-y0\n",
        "    m=y*1.0/x\n",
        "    ## Se m < 0 entao esta no 2o ou 4o quadrante\n",
        "    if m<0:\n",
        "        ## Se |m| <= 1 entao esta no 4o ou no 8o octante\n",
        "        if abs(m)<= 1:\n",
        "            ## Se x > 0 entao esta no 8o octante\n",
        "            if x>0:\n",
        "                y=y*-1\n",
        "                xp,yp=bresenham_FirstOctante(x,y)\n",
        "                yp=list(np.asarray(yp)*-1)\n",
        "            ## senao esta no 4o octante \n",
        "            else:\n",
        "                x=x*-1\n",
        "                xp,yp=bresenham_FirstOctante(x,y)\n",
        "                xp=list(np.asarray(xp)*-1)\n",
        "        ## senao esta no 3o ou no 7o octante        \n",
        "        else:\n",
        "            ## Se y > 0 entao esta no 3o octante\n",
        "            if y>0:\n",
        "                x=x*-1\n",
        "                x,y = y,x\n",
        "                xp,yp=bresenham_FirstOctante(x,y)\n",
        "                xp,yp = yp,xp\n",
        "                xp=list(np.asarray(xp)*-1)\n",
        "            ## senao esta no 7o octante\n",
        "            else:\n",
        "                y=y*-1\n",
        "                x,y = y,x\n",
        "                xp,yp=bresenham_FirstOctante(x,y)\n",
        "                xp,yp = yp,xp\n",
        "                yp=list(np.asarray(yp)*-1)\n",
        "    ## senao esta no 1o quadrante ou no 3o quadrante\n",
        "    else:\n",
        "        ## Se |m| <= 1 entao esta no 1o ou no 5o octante\n",
        "        if abs(m)<= 1:\n",
        "            ## Se x > 0 entao esta no 1o octante\n",
        "            if x>0:\n",
        "                xp,yp=bresenham_FirstOctante(x,y)\n",
        "            ## senao esta no 5o octante \n",
        "            else:\n",
        "                x=x*-1\n",
        "                y=y*-1\n",
        "                xp,yp=bresenham_FirstOctante(x,y)\n",
        "                xp=list(np.asarray(xp)*-1)\n",
        "                yp=list(np.asarray(yp)*-1)\n",
        "        ## senao esta no 2o ou no 6o octante        \n",
        "        else:\n",
        "            ## Se y > 0 entao esta no 2o octante\n",
        "            if y>0:\n",
        "                x,y = y,x\n",
        "                xp,yp=bresenham_FirstOctante(x,y)\n",
        "                xp,yp = yp,xp\n",
        "            ## senao esta no 6o octante\n",
        "            else:\n",
        "                y=y*-1\n",
        "                x=x*-1\n",
        "                x,y = y,x\n",
        "                xp,yp=bresenham_FirstOctante(x,y)\n",
        "                xp,yp = yp,xp\n",
        "                xp=list(np.asarray(xp)*-1)\n",
        "                yp=list(np.asarray(yp)*-1)\n",
        "    xp= list(np.asarray(xp) + x0)\n",
        "    yp= list(np.asarray(yp) + y0)\n",
        "    return xp, yp\n",
        "                "
      ],
      "execution_count": 6,
      "outputs": []
    },
    {
      "cell_type": "code",
      "metadata": {
        "id": "dIKf9izqG-XF"
      },
      "source": [
        "## O algoritmo de bresenham foi implementado baseado no artigo: \n",
        "## https://www.tutorialandexample.com/bresenhams-line-drawing-algorithm/\n",
        "\n",
        "def bresenham_FirstOctante(xf, yf):\n",
        "    x=int(xf)\n",
        "    y=int(yf)\n",
        "    xp=[]\n",
        "    yp=[]\n",
        "    xp.append(0)\n",
        "    yp.append(0)\n",
        "    x_temp=0\n",
        "    y_temp=0\n",
        "    pk=2*y-x\n",
        "    for i in range(x-1):\n",
        "        ## print(pk)\n",
        "        if pk<0:\n",
        "            pk=pk+2*y\n",
        "            x_temp=x_temp+1\n",
        "            y_temp=y_temp\n",
        "        else:\n",
        "            pk=pk+2*y-2*x\n",
        "            x_temp=x_temp+1\n",
        "            y_temp=y_temp+1\n",
        "        xp.append(int(x_temp))\n",
        "        yp.append(int(y_temp))\n",
        "    xp.append(x)\n",
        "    yp.append(y)\n",
        "    return xp, yp        "
      ],
      "execution_count": 7,
      "outputs": []
    },
    {
      "cell_type": "code",
      "metadata": {
        "id": "SLSXlCYLG-XF"
      },
      "source": [
        "## Testa se os pontos extremos dos raios estao fora da imagem \n",
        "def test_XY(XC, YC, j, tam_Y, tam_X):\n",
        "    if XC[j]<0:\n",
        "        X=0\n",
        "    elif XC[j]>=tam_X:\n",
        "        X=tam_X-1\n",
        "    else:\n",
        "        X=XC[j]\n",
        "    if YC[j]<0:\n",
        "        Y=0\n",
        "    elif YC[j]>=tam_Y:\n",
        "        Y=tam_Y-1\n",
        "    else:\n",
        "        Y=YC[j]\n",
        "    return int(X), int(Y)"
      ],
      "execution_count": 8,
      "outputs": []
    },
    {
      "cell_type": "code",
      "metadata": {
        "id": "UlwOCODNG-XG"
      },
      "source": [
        "## Desenha os raios e determina os pixels de amostragem usando o algoritmo de bresenham\n",
        "def desenha_raios(ncols, nrows, nc, RAIO, NUM_RAIOS, img, PI, x0, y0, xr, yr):\n",
        "\n",
        "    ## Cria vetors e matrizes de apoio\n",
        "    IT = np.zeros([nrows, ncols]) \n",
        "    const =  5 * np.max(np.max(np.max(PI)))\n",
        "    MXC = np.zeros([NUM_RAIOS, RAIO])\n",
        "    MYC = np.zeros([NUM_RAIOS, RAIO])\n",
        "    MY  = np.zeros([NUM_RAIOS, RAIO, nc])\n",
        "    for i in range(NUM_RAIOS):\n",
        "        XC, YC = bresenham(x0, y0, xr[i], yr[i])\n",
        "        ##print(XC[0], YC[0], XC[len(XC)-1], YC[len(YC)-1])\n",
        "        for canal in range(nc):\n",
        "            Iaux = img[:, :, canal]\n",
        "            dim = len(XC)\n",
        "            for j in range(dim-1):\n",
        "                ##print(i, canal, j, dim)\n",
        "                X,Y = test_XY(XC, YC, j, nrows, ncols)\n",
        "                ## print(X,Y)\n",
        "                MXC[i][j] = Y\n",
        "                MYC[i][j] = X\n",
        "                MY[i][j][canal] = Iaux[X][Y] \n",
        "                IT[Y][X] = const\n",
        "                PI[Y][X] = const\n",
        "    return MXC, MYC, MY, IT, PI"
      ],
      "execution_count": 9,
      "outputs": []
    },
    {
      "cell_type": "code",
      "metadata": {
        "colab": {
          "base_uri": "https://localhost:8080/",
          "height": 502
        },
        "id": "DnTnx7pRG-XG",
        "outputId": "8444fdf4-54fc-46b4-8679-b99478fc96af"
      },
      "source": [
        "## Define a imagem as ser lida\n",
        "imagem, dx, dy, RAIO, NUM_RAIOS, alpha_i, alpha_f = select_data()\n",
        "## Le a imagem e retorna a imagem, tamanho da imagem e numero de canais\n",
        "img, nrows, ncols, nc = le_imagem(imagem)\n",
        "\n",
        "## print(ncols, nrows, nc)\n",
        "\n",
        "## CRia a imagem de Pauli e mostra a imagem gerada\n",
        "PI=show_Pauli(img, 1, 0)\n",
        "\n",
        "## Define os raios da area\n",
        "x0, y0, xr, yr=define_radiais(RAIO, NUM_RAIOS, dx, dy, nrows, ncols, alpha_i, alpha_f)\n",
        "\n",
        "MXC, MYC, MY, IT, PI=desenha_raios(ncols, nrows, nc, RAIO, NUM_RAIOS, img, PI, x0, y0, xr, yr)\n",
        "\n",
        "## print(x0,y0)\n",
        "## print(xr)\n",
        "## print(yr)\n",
        "\n",
        "plt.figure(figsize=(15,20))\n",
        "plt.plot(ncols/2, nrows/2, marker='v', color=\"blue\")\n",
        "plt.plot(x0,y0, marker='o', color=\"red\")\n",
        "plt.plot(xr, yr, color=\"green\", linewidth=3)  \n",
        "##plt.imshow(IT)\n",
        "plt.imshow(PI)\n",
        "plt.show() \n",
        "\n",
        "##tx, ty=bresenham(9,18,14,22)\n",
        "##print(tx)\n",
        "##print(ty)"
      ],
      "execution_count": 10,
      "outputs": [
        {
          "output_type": "stream",
          "text": [
            "Select the image to be processed:\n",
            "1.Flevoland - area 1\n",
            "2.San Francisco\n",
            "type the option:1\n"
          ],
          "name": "stdout"
        },
        {
          "output_type": "error",
          "ename": "FileNotFoundError",
          "evalue": "ignored",
          "traceback": [
            "\u001b[0;31m---------------------------------------------------------------------------\u001b[0m",
            "\u001b[0;31mFileNotFoundError\u001b[0m                         Traceback (most recent call last)",
            "\u001b[0;32m/usr/local/lib/python3.7/dist-packages/scipy/io/matlab/mio.py\u001b[0m in \u001b[0;36m_open_file\u001b[0;34m(file_like, appendmat, mode)\u001b[0m\n\u001b[1;32m     38\u001b[0m     \u001b[0;32mtry\u001b[0m\u001b[0;34m:\u001b[0m\u001b[0;34m\u001b[0m\u001b[0;34m\u001b[0m\u001b[0m\n\u001b[0;32m---> 39\u001b[0;31m         \u001b[0;32mreturn\u001b[0m \u001b[0mopen\u001b[0m\u001b[0;34m(\u001b[0m\u001b[0mfile_like\u001b[0m\u001b[0;34m,\u001b[0m \u001b[0mmode\u001b[0m\u001b[0;34m)\u001b[0m\u001b[0;34m,\u001b[0m \u001b[0;32mTrue\u001b[0m\u001b[0;34m\u001b[0m\u001b[0;34m\u001b[0m\u001b[0m\n\u001b[0m\u001b[1;32m     40\u001b[0m     \u001b[0;32mexcept\u001b[0m \u001b[0mIOError\u001b[0m\u001b[0;34m:\u001b[0m\u001b[0;34m\u001b[0m\u001b[0;34m\u001b[0m\u001b[0m\n",
            "\u001b[0;31mFileNotFoundError\u001b[0m: [Errno 2] No such file or directory: './Data/AirSAR_Flevoland_Enxuto.mat'",
            "\nDuring handling of the above exception, another exception occurred:\n",
            "\u001b[0;31mFileNotFoundError\u001b[0m                         Traceback (most recent call last)",
            "\u001b[0;32m<ipython-input-10-96c8e9daffc9>\u001b[0m in \u001b[0;36m<module>\u001b[0;34m()\u001b[0m\n\u001b[1;32m      2\u001b[0m \u001b[0mimagem\u001b[0m\u001b[0;34m,\u001b[0m \u001b[0mdx\u001b[0m\u001b[0;34m,\u001b[0m \u001b[0mdy\u001b[0m\u001b[0;34m,\u001b[0m \u001b[0mRAIO\u001b[0m\u001b[0;34m,\u001b[0m \u001b[0mNUM_RAIOS\u001b[0m\u001b[0;34m,\u001b[0m \u001b[0malpha_i\u001b[0m\u001b[0;34m,\u001b[0m \u001b[0malpha_f\u001b[0m \u001b[0;34m=\u001b[0m \u001b[0mselect_data\u001b[0m\u001b[0;34m(\u001b[0m\u001b[0;34m)\u001b[0m\u001b[0;34m\u001b[0m\u001b[0;34m\u001b[0m\u001b[0m\n\u001b[1;32m      3\u001b[0m \u001b[0;31m## Le a imagem e retorna a imagem, tamanho da imagem e numero de canais\u001b[0m\u001b[0;34m\u001b[0m\u001b[0;34m\u001b[0m\u001b[0;34m\u001b[0m\u001b[0m\n\u001b[0;32m----> 4\u001b[0;31m \u001b[0mimg\u001b[0m\u001b[0;34m,\u001b[0m \u001b[0mnrows\u001b[0m\u001b[0;34m,\u001b[0m \u001b[0mncols\u001b[0m\u001b[0;34m,\u001b[0m \u001b[0mnc\u001b[0m \u001b[0;34m=\u001b[0m \u001b[0mle_imagem\u001b[0m\u001b[0;34m(\u001b[0m\u001b[0mimagem\u001b[0m\u001b[0;34m)\u001b[0m\u001b[0;34m\u001b[0m\u001b[0;34m\u001b[0m\u001b[0m\n\u001b[0m\u001b[1;32m      5\u001b[0m \u001b[0;34m\u001b[0m\u001b[0m\n\u001b[1;32m      6\u001b[0m \u001b[0;31m## print(ncols, nrows, nc)\u001b[0m\u001b[0;34m\u001b[0m\u001b[0;34m\u001b[0m\u001b[0;34m\u001b[0m\u001b[0m\n",
            "\u001b[0;32m<ipython-input-3-8f1e7bc7a719>\u001b[0m in \u001b[0;36mle_imagem\u001b[0;34m(img_geral)\u001b[0m\n\u001b[1;32m      1\u001b[0m \u001b[0;31m## Le uma imagem no formato mat\u001b[0m\u001b[0;34m\u001b[0m\u001b[0;34m\u001b[0m\u001b[0;34m\u001b[0m\u001b[0m\n\u001b[1;32m      2\u001b[0m \u001b[0;32mdef\u001b[0m \u001b[0mle_imagem\u001b[0m\u001b[0;34m(\u001b[0m\u001b[0mimg_geral\u001b[0m\u001b[0;34m)\u001b[0m\u001b[0;34m:\u001b[0m\u001b[0;34m\u001b[0m\u001b[0;34m\u001b[0m\u001b[0m\n\u001b[0;32m----> 3\u001b[0;31m     \u001b[0mimg\u001b[0m\u001b[0;34m=\u001b[0m\u001b[0msio\u001b[0m\u001b[0;34m.\u001b[0m\u001b[0mloadmat\u001b[0m\u001b[0;34m(\u001b[0m\u001b[0mimg_geral\u001b[0m\u001b[0;34m)\u001b[0m\u001b[0;34m\u001b[0m\u001b[0;34m\u001b[0m\u001b[0m\n\u001b[0m\u001b[1;32m      4\u001b[0m     \u001b[0mimg_dat\u001b[0m\u001b[0;34m=\u001b[0m\u001b[0mimg\u001b[0m\u001b[0;34m[\u001b[0m\u001b[0;34m'S'\u001b[0m\u001b[0;34m]\u001b[0m\u001b[0;34m\u001b[0m\u001b[0;34m\u001b[0m\u001b[0m\n\u001b[1;32m      5\u001b[0m     \u001b[0mimg_dat\u001b[0m\u001b[0;34m=\u001b[0m\u001b[0mnp\u001b[0m\u001b[0;34m.\u001b[0m\u001b[0msqueeze\u001b[0m\u001b[0;34m(\u001b[0m\u001b[0mimg_dat\u001b[0m\u001b[0;34m)\u001b[0m\u001b[0;34m\u001b[0m\u001b[0;34m\u001b[0m\u001b[0m\n",
            "\u001b[0;32m/usr/local/lib/python3.7/dist-packages/scipy/io/matlab/mio.py\u001b[0m in \u001b[0;36mloadmat\u001b[0;34m(file_name, mdict, appendmat, **kwargs)\u001b[0m\n\u001b[1;32m    214\u001b[0m     \"\"\"\n\u001b[1;32m    215\u001b[0m     \u001b[0mvariable_names\u001b[0m \u001b[0;34m=\u001b[0m \u001b[0mkwargs\u001b[0m\u001b[0;34m.\u001b[0m\u001b[0mpop\u001b[0m\u001b[0;34m(\u001b[0m\u001b[0;34m'variable_names'\u001b[0m\u001b[0;34m,\u001b[0m \u001b[0;32mNone\u001b[0m\u001b[0;34m)\u001b[0m\u001b[0;34m\u001b[0m\u001b[0;34m\u001b[0m\u001b[0m\n\u001b[0;32m--> 216\u001b[0;31m     \u001b[0;32mwith\u001b[0m \u001b[0m_open_file_context\u001b[0m\u001b[0;34m(\u001b[0m\u001b[0mfile_name\u001b[0m\u001b[0;34m,\u001b[0m \u001b[0mappendmat\u001b[0m\u001b[0;34m)\u001b[0m \u001b[0;32mas\u001b[0m \u001b[0mf\u001b[0m\u001b[0;34m:\u001b[0m\u001b[0;34m\u001b[0m\u001b[0;34m\u001b[0m\u001b[0m\n\u001b[0m\u001b[1;32m    217\u001b[0m         \u001b[0mMR\u001b[0m\u001b[0;34m,\u001b[0m \u001b[0m_\u001b[0m \u001b[0;34m=\u001b[0m \u001b[0mmat_reader_factory\u001b[0m\u001b[0;34m(\u001b[0m\u001b[0mf\u001b[0m\u001b[0;34m,\u001b[0m \u001b[0;34m**\u001b[0m\u001b[0mkwargs\u001b[0m\u001b[0;34m)\u001b[0m\u001b[0;34m\u001b[0m\u001b[0;34m\u001b[0m\u001b[0m\n\u001b[1;32m    218\u001b[0m         \u001b[0mmatfile_dict\u001b[0m \u001b[0;34m=\u001b[0m \u001b[0mMR\u001b[0m\u001b[0;34m.\u001b[0m\u001b[0mget_variables\u001b[0m\u001b[0;34m(\u001b[0m\u001b[0mvariable_names\u001b[0m\u001b[0;34m)\u001b[0m\u001b[0;34m\u001b[0m\u001b[0;34m\u001b[0m\u001b[0m\n",
            "\u001b[0;32m/usr/lib/python3.7/contextlib.py\u001b[0m in \u001b[0;36m__enter__\u001b[0;34m(self)\u001b[0m\n\u001b[1;32m    110\u001b[0m         \u001b[0;32mdel\u001b[0m \u001b[0mself\u001b[0m\u001b[0;34m.\u001b[0m\u001b[0margs\u001b[0m\u001b[0;34m,\u001b[0m \u001b[0mself\u001b[0m\u001b[0;34m.\u001b[0m\u001b[0mkwds\u001b[0m\u001b[0;34m,\u001b[0m \u001b[0mself\u001b[0m\u001b[0;34m.\u001b[0m\u001b[0mfunc\u001b[0m\u001b[0;34m\u001b[0m\u001b[0;34m\u001b[0m\u001b[0m\n\u001b[1;32m    111\u001b[0m         \u001b[0;32mtry\u001b[0m\u001b[0;34m:\u001b[0m\u001b[0;34m\u001b[0m\u001b[0;34m\u001b[0m\u001b[0m\n\u001b[0;32m--> 112\u001b[0;31m             \u001b[0;32mreturn\u001b[0m \u001b[0mnext\u001b[0m\u001b[0;34m(\u001b[0m\u001b[0mself\u001b[0m\u001b[0;34m.\u001b[0m\u001b[0mgen\u001b[0m\u001b[0;34m)\u001b[0m\u001b[0;34m\u001b[0m\u001b[0;34m\u001b[0m\u001b[0m\n\u001b[0m\u001b[1;32m    113\u001b[0m         \u001b[0;32mexcept\u001b[0m \u001b[0mStopIteration\u001b[0m\u001b[0;34m:\u001b[0m\u001b[0;34m\u001b[0m\u001b[0;34m\u001b[0m\u001b[0m\n\u001b[1;32m    114\u001b[0m             \u001b[0;32mraise\u001b[0m \u001b[0mRuntimeError\u001b[0m\u001b[0;34m(\u001b[0m\u001b[0;34m\"generator didn't yield\"\u001b[0m\u001b[0;34m)\u001b[0m \u001b[0;32mfrom\u001b[0m \u001b[0;32mNone\u001b[0m\u001b[0;34m\u001b[0m\u001b[0;34m\u001b[0m\u001b[0m\n",
            "\u001b[0;32m/usr/local/lib/python3.7/dist-packages/scipy/io/matlab/mio.py\u001b[0m in \u001b[0;36m_open_file_context\u001b[0;34m(file_like, appendmat, mode)\u001b[0m\n\u001b[1;32m     17\u001b[0m \u001b[0;34m@\u001b[0m\u001b[0mcontextmanager\u001b[0m\u001b[0;34m\u001b[0m\u001b[0;34m\u001b[0m\u001b[0m\n\u001b[1;32m     18\u001b[0m \u001b[0;32mdef\u001b[0m \u001b[0m_open_file_context\u001b[0m\u001b[0;34m(\u001b[0m\u001b[0mfile_like\u001b[0m\u001b[0;34m,\u001b[0m \u001b[0mappendmat\u001b[0m\u001b[0;34m,\u001b[0m \u001b[0mmode\u001b[0m\u001b[0;34m=\u001b[0m\u001b[0;34m'rb'\u001b[0m\u001b[0;34m)\u001b[0m\u001b[0;34m:\u001b[0m\u001b[0;34m\u001b[0m\u001b[0;34m\u001b[0m\u001b[0m\n\u001b[0;32m---> 19\u001b[0;31m     \u001b[0mf\u001b[0m\u001b[0;34m,\u001b[0m \u001b[0mopened\u001b[0m \u001b[0;34m=\u001b[0m \u001b[0m_open_file\u001b[0m\u001b[0;34m(\u001b[0m\u001b[0mfile_like\u001b[0m\u001b[0;34m,\u001b[0m \u001b[0mappendmat\u001b[0m\u001b[0;34m,\u001b[0m \u001b[0mmode\u001b[0m\u001b[0;34m)\u001b[0m\u001b[0;34m\u001b[0m\u001b[0;34m\u001b[0m\u001b[0m\n\u001b[0m\u001b[1;32m     20\u001b[0m     \u001b[0;32myield\u001b[0m \u001b[0mf\u001b[0m\u001b[0;34m\u001b[0m\u001b[0;34m\u001b[0m\u001b[0m\n\u001b[1;32m     21\u001b[0m     \u001b[0;32mif\u001b[0m \u001b[0mopened\u001b[0m\u001b[0;34m:\u001b[0m\u001b[0;34m\u001b[0m\u001b[0;34m\u001b[0m\u001b[0m\n",
            "\u001b[0;32m/usr/local/lib/python3.7/dist-packages/scipy/io/matlab/mio.py\u001b[0m in \u001b[0;36m_open_file\u001b[0;34m(file_like, appendmat, mode)\u001b[0m\n\u001b[1;32m     43\u001b[0m             \u001b[0;32mif\u001b[0m \u001b[0mappendmat\u001b[0m \u001b[0;32mand\u001b[0m \u001b[0;32mnot\u001b[0m \u001b[0mfile_like\u001b[0m\u001b[0;34m.\u001b[0m\u001b[0mendswith\u001b[0m\u001b[0;34m(\u001b[0m\u001b[0;34m'.mat'\u001b[0m\u001b[0;34m)\u001b[0m\u001b[0;34m:\u001b[0m\u001b[0;34m\u001b[0m\u001b[0;34m\u001b[0m\u001b[0m\n\u001b[1;32m     44\u001b[0m                 \u001b[0mfile_like\u001b[0m \u001b[0;34m+=\u001b[0m \u001b[0;34m'.mat'\u001b[0m\u001b[0;34m\u001b[0m\u001b[0;34m\u001b[0m\u001b[0m\n\u001b[0;32m---> 45\u001b[0;31m             \u001b[0;32mreturn\u001b[0m \u001b[0mopen\u001b[0m\u001b[0;34m(\u001b[0m\u001b[0mfile_like\u001b[0m\u001b[0;34m,\u001b[0m \u001b[0mmode\u001b[0m\u001b[0;34m)\u001b[0m\u001b[0;34m,\u001b[0m \u001b[0;32mTrue\u001b[0m\u001b[0;34m\u001b[0m\u001b[0;34m\u001b[0m\u001b[0m\n\u001b[0m\u001b[1;32m     46\u001b[0m         \u001b[0;32melse\u001b[0m\u001b[0;34m:\u001b[0m\u001b[0;34m\u001b[0m\u001b[0;34m\u001b[0m\u001b[0m\n\u001b[1;32m     47\u001b[0m             \u001b[0;32mraise\u001b[0m \u001b[0mIOError\u001b[0m\u001b[0;34m(\u001b[0m\u001b[0;34m'Reader needs file name or open file-like object'\u001b[0m\u001b[0;34m)\u001b[0m\u001b[0;34m\u001b[0m\u001b[0;34m\u001b[0m\u001b[0m\n",
            "\u001b[0;31mFileNotFoundError\u001b[0m: [Errno 2] No such file or directory: './Data/AirSAR_Flevoland_Enxuto.mat'"
          ]
        }
      ]
    },
    {
      "cell_type": "code",
      "metadata": {
        "id": "fqTZySykIzPZ"
      },
      "source": [
        ""
      ],
      "execution_count": null,
      "outputs": []
    },
    {
      "cell_type": "code",
      "metadata": {
        "id": "rWWK4Bk5Izof"
      },
      "source": [
        ""
      ],
      "execution_count": null,
      "outputs": []
    },
    {
      "cell_type": "code",
      "metadata": {
        "id": "kltXsLs1G-XH"
      },
      "source": [
        ""
      ],
      "execution_count": null,
      "outputs": []
    }
  ]
}