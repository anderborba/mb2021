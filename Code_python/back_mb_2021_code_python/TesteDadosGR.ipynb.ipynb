{
 "cells": [
  {
   "cell_type": "markdown",
   "metadata": {},
   "source": [
    "## Teste de Dados Geológicos ##\n",
    "\n",
    "Este notebook faz testes com os dados geológicos fornecidos pelo Humberto. O conjunto de dados está estruturado da seguinte forma: \n",
    "- 2259 registros contendo dados de:profundidade, densidade, resistividade média a cada 2.5 ft, resistividade, raios gamma e petecial espontâneo.\n",
    "- Profundidade, em metros, indo de 68.2 até 519.8 com intervlo de 0.2 m."
   ]
  },
  {
   "cell_type": "code",
   "execution_count": 1,
   "metadata": {},
   "outputs": [],
   "source": [
    "## Import all required libraries \n",
    "import numpy as np\n",
    "## Used to find border evidences\n",
    "import math\n",
    "from scipy.optimize import dual_annealing"
   ]
  },
  {
   "cell_type": "code",
   "execution_count": 2,
   "metadata": {},
   "outputs": [],
   "source": [
    "## This function computes the indexes from a list where the condition is true\n",
    "## call: get_indexes(condicao) - example: get_indexes(x>0)\n",
    "\n",
    "def get_indexes(self):\n",
    "    try:\n",
    "        self = list(iter(self))\n",
    "    except TypeError as e:\n",
    "        raise Exception(\"\"\"'get_indexes' method can only be applied to iterables.{}\"\"\".format(str(e)))\n",
    "    indices = [i for i, x in enumerate(self) if bool(x) == True]\n",
    "    return(indices)"
   ]
  },
  {
   "cell_type": "code",
   "execution_count": 3,
   "metadata": {},
   "outputs": [],
   "source": [
    "## O que faz esta função ???\n",
    "\n",
    "def func_obj_l_L_mu(j, z, n, matdf1, matdf2):\n",
    "    j = int(np.round(j))\n",
    "    mue = matdf1[j, 0]\n",
    "    Le  = matdf1[j, 1]\n",
    "    mud = matdf2[j, 0]\n",
    "    Ld  = matdf2[j, 1]\n",
    "    somaze = sum(z[0: j]) / j\n",
    "    somalogze = sum(np.log(z[0: j])) / j\n",
    "    somazd = sum(z[j: n]) / (n - j)\n",
    "    somalogzd = sum(np.log(z[j: n])) / (n - j)\n",
    "    #\n",
    "    aux1 = Le * np.log(Le)\n",
    "    aux2 = Le * somalogze\n",
    "    aux3 = Le * np.log(mue)\n",
    "    aux4 = np.log(math.gamma(Le))\n",
    "    aux5 = (Le / mue) *  somaze\n",
    "    #\n",
    "    aux6  = Ld * np.log(Ld)\n",
    "    aux7  = Ld * somalogzd\n",
    "    aux8  = Ld * np.log(mud)\n",
    "    aux9  = np.log(math.gamma(Ld))\n",
    "    aux10 = (Ld / mud) * somazd\n",
    "    a1 =  aux1 + aux2 - aux3 - aux4 - aux5\n",
    "    a2 =  aux6 + aux7 - aux8 - aux9 - aux10\n",
    "    #### AAB  Beware! The signal is negative because GenSA finds the point of minimum\n",
    "    func_obj_l_L_mu = -(j * a1 + (n - j) * a2)\n",
    "    return func_obj_l_L_mu"
   ]
  },
  {
   "cell_type": "code",
   "execution_count": 4,
   "metadata": {},
   "outputs": [],
   "source": [
    "## Finds border evidences\n",
    "\n",
    "def find_evidence(GR, window, overlap):\n",
    "    print(\"Computing evidence - this might take a while\")\n",
    "    Le = 4\n",
    "    Ld = 4\n",
    "    num_trechos=1+int((len(GR)-window)/(window-overlap))\n",
    "    print(num_trechos)\n",
    "    z = np.zeros((num_trechos, window))\n",
    "    inicio=0\n",
    "    final=window\n",
    "    for k in range(num_trechos):\n",
    "        print(k)\n",
    "        z[k,:]=GR[inicio:final]\n",
    "        inicio=final-overlap\n",
    "        final=inicio+window\n",
    "    print(z)\n",
    "    matdf1 =  np.zeros((window-1, 2))\n",
    "    matdf2 =  np.zeros((window-1, 2))\n",
    "    evidencias= np.zeros((num_trechos))\n",
    "    for i in range(num_trechos):\n",
    "        matdf1[0,0]=z[i,0]\n",
    "        matdf1[0,1]=Le\n",
    "        matdf2[0,0]=sum(z[i,1:window]) / (window-1)\n",
    "        matdf2[0,1]=Ld\n",
    "        for j in range(1,window-1):\n",
    "            mue = sum(z[i, 0:j+1]) / (j+1)\n",
    "            matdf1[j, 0] = mue\n",
    "            matdf1[j, 1] = Le\n",
    "            mud = sum(z[i,j+1:window]) / (window - (j+1))\n",
    "            matdf2[j, 0] = mud\n",
    "            matdf2[j, 1] = Ld\n",
    "        lw = [0]\n",
    "        up = [window - 0]\n",
    "        ##print(matdf1)\n",
    "        ##print(matdf2)\n",
    "        ret = dual_annealing(lambda x:func_obj_l_L_mu(x,z, window-1, matdf1, matdf2), bounds=list(zip(lw, up)), seed=1234)\n",
    "        evidencias[i] = np.round(ret.x)\n",
    "    \n",
    "    return evidencias"
   ]
  },
  {
   "cell_type": "code",
   "execution_count": 5,
   "metadata": {},
   "outputs": [
    {
     "name": "stdout",
     "output_type": "stream",
     "text": [
      "[1, 1, 1, 1, 2, 2, 2, 2, 2, 2]\n"
     ]
    }
   ],
   "source": [
    "GR=[1,1,1,1,2,2,2,2,2,2,2,2,1,1,1,1,1,1,2,2,2,2,1,1,1,1,1,1,2,2,2,2,2,2,1,1,1,1,1,1]\n",
    "z=GR[0:10]\n",
    "print(z)\n",
    "\n",
    "##find_evidence(GR, 10, 4)"
   ]
  },
  {
   "cell_type": "code",
   "execution_count": 6,
   "metadata": {},
   "outputs": [
    {
     "name": "stdout",
     "output_type": "stream",
     "text": [
      "Computing evidence - this might take a while\n",
      "6\n",
      "0\n",
      "1\n",
      "2\n",
      "3\n",
      "4\n",
      "5\n",
      "[[1. 1. 1. 1. 2. 2. 2. 2. 2. 2.]\n",
      " [2. 2. 2. 2. 2. 2. 1. 1. 1. 1.]\n",
      " [1. 1. 1. 1. 1. 1. 2. 2. 2. 2.]\n",
      " [2. 2. 2. 2. 1. 1. 1. 1. 1. 1.]\n",
      " [1. 1. 1. 1. 2. 2. 2. 2. 2. 2.]\n",
      " [2. 2. 2. 2. 1. 1. 1. 1. 1. 1.]]\n"
     ]
    },
    {
     "ename": "ValueError",
     "evalue": "The truth value of an array with more than one element is ambiguous. Use a.any() or a.all()",
     "output_type": "error",
     "traceback": [
      "\u001b[1;31m---------------------------------------------------------------------------\u001b[0m",
      "\u001b[1;31mValueError\u001b[0m                                Traceback (most recent call last)",
      "\u001b[1;32m<ipython-input-6-dd3d2f2336b3>\u001b[0m in \u001b[0;36m<module>\u001b[1;34m\u001b[0m\n\u001b[1;32m----> 1\u001b[1;33m \u001b[0mevidencias\u001b[0m\u001b[1;33m=\u001b[0m\u001b[0mfind_evidence\u001b[0m\u001b[1;33m(\u001b[0m\u001b[0mGR\u001b[0m\u001b[1;33m,\u001b[0m \u001b[1;36m10\u001b[0m\u001b[1;33m,\u001b[0m \u001b[1;36m4\u001b[0m\u001b[1;33m)\u001b[0m\u001b[1;33m\u001b[0m\u001b[1;33m\u001b[0m\u001b[0m\n\u001b[0m\u001b[0;32m      2\u001b[0m \u001b[0mprint\u001b[0m\u001b[1;33m(\u001b[0m\u001b[0mevidencias\u001b[0m\u001b[1;33m)\u001b[0m\u001b[1;33m\u001b[0m\u001b[1;33m\u001b[0m\u001b[0m\n",
      "\u001b[1;32m<ipython-input-4-199688364dd0>\u001b[0m in \u001b[0;36mfind_evidence\u001b[1;34m(GR, window, overlap)\u001b[0m\n\u001b[0;32m     35\u001b[0m         \u001b[1;31m##print(matdf1)\u001b[0m\u001b[1;33m\u001b[0m\u001b[1;33m\u001b[0m\u001b[1;33m\u001b[0m\u001b[0m\n\u001b[0;32m     36\u001b[0m         \u001b[1;31m##print(matdf2)\u001b[0m\u001b[1;33m\u001b[0m\u001b[1;33m\u001b[0m\u001b[1;33m\u001b[0m\u001b[0m\n\u001b[1;32m---> 37\u001b[1;33m         \u001b[0mret\u001b[0m \u001b[1;33m=\u001b[0m \u001b[0mdual_annealing\u001b[0m\u001b[1;33m(\u001b[0m\u001b[1;32mlambda\u001b[0m \u001b[0mx\u001b[0m\u001b[1;33m:\u001b[0m\u001b[0mfunc_obj_l_L_mu\u001b[0m\u001b[1;33m(\u001b[0m\u001b[0mx\u001b[0m\u001b[1;33m,\u001b[0m\u001b[0mz\u001b[0m\u001b[1;33m,\u001b[0m \u001b[0mwindow\u001b[0m\u001b[1;33m-\u001b[0m\u001b[1;36m1\u001b[0m\u001b[1;33m,\u001b[0m \u001b[0mmatdf1\u001b[0m\u001b[1;33m,\u001b[0m \u001b[0mmatdf2\u001b[0m\u001b[1;33m)\u001b[0m\u001b[1;33m,\u001b[0m \u001b[0mbounds\u001b[0m\u001b[1;33m=\u001b[0m\u001b[0mlist\u001b[0m\u001b[1;33m(\u001b[0m\u001b[0mzip\u001b[0m\u001b[1;33m(\u001b[0m\u001b[0mlw\u001b[0m\u001b[1;33m,\u001b[0m \u001b[0mup\u001b[0m\u001b[1;33m)\u001b[0m\u001b[1;33m)\u001b[0m\u001b[1;33m,\u001b[0m \u001b[0mseed\u001b[0m\u001b[1;33m=\u001b[0m\u001b[1;36m1234\u001b[0m\u001b[1;33m)\u001b[0m\u001b[1;33m\u001b[0m\u001b[1;33m\u001b[0m\u001b[0m\n\u001b[0m\u001b[0;32m     38\u001b[0m         \u001b[0mevidencias\u001b[0m\u001b[1;33m[\u001b[0m\u001b[0mi\u001b[0m\u001b[1;33m]\u001b[0m \u001b[1;33m=\u001b[0m \u001b[0mnp\u001b[0m\u001b[1;33m.\u001b[0m\u001b[0mround\u001b[0m\u001b[1;33m(\u001b[0m\u001b[0mret\u001b[0m\u001b[1;33m.\u001b[0m\u001b[0mx\u001b[0m\u001b[1;33m)\u001b[0m\u001b[1;33m\u001b[0m\u001b[1;33m\u001b[0m\u001b[0m\n\u001b[0;32m     39\u001b[0m \u001b[1;33m\u001b[0m\u001b[0m\n",
      "\u001b[1;32m~\\Anaconda3\\lib\\site-packages\\scipy\\optimize\\_dual_annealing.py\u001b[0m in \u001b[0;36mdual_annealing\u001b[1;34m(func, bounds, args, maxiter, local_search_options, initial_temp, restart_temp_ratio, visit, accept, maxfun, seed, no_local_search, callback, x0)\u001b[0m\n\u001b[0;32m    629\u001b[0m     \u001b[1;31m# Initialization of the energy state\u001b[0m\u001b[1;33m\u001b[0m\u001b[1;33m\u001b[0m\u001b[1;33m\u001b[0m\u001b[0m\n\u001b[0;32m    630\u001b[0m     \u001b[0menergy_state\u001b[0m \u001b[1;33m=\u001b[0m \u001b[0mEnergyState\u001b[0m\u001b[1;33m(\u001b[0m\u001b[0mlower\u001b[0m\u001b[1;33m,\u001b[0m \u001b[0mupper\u001b[0m\u001b[1;33m,\u001b[0m \u001b[0mcallback\u001b[0m\u001b[1;33m)\u001b[0m\u001b[1;33m\u001b[0m\u001b[1;33m\u001b[0m\u001b[0m\n\u001b[1;32m--> 631\u001b[1;33m     \u001b[0menergy_state\u001b[0m\u001b[1;33m.\u001b[0m\u001b[0mreset\u001b[0m\u001b[1;33m(\u001b[0m\u001b[0mfunc_wrapper\u001b[0m\u001b[1;33m,\u001b[0m \u001b[0mrand_state\u001b[0m\u001b[1;33m,\u001b[0m \u001b[0mx0\u001b[0m\u001b[1;33m)\u001b[0m\u001b[1;33m\u001b[0m\u001b[1;33m\u001b[0m\u001b[0m\n\u001b[0m\u001b[0;32m    632\u001b[0m     \u001b[1;31m# Minimum value of annealing temperature reached to perform\u001b[0m\u001b[1;33m\u001b[0m\u001b[1;33m\u001b[0m\u001b[1;33m\u001b[0m\u001b[0m\n\u001b[0;32m    633\u001b[0m     \u001b[1;31m# re-annealing\u001b[0m\u001b[1;33m\u001b[0m\u001b[1;33m\u001b[0m\u001b[1;33m\u001b[0m\u001b[0m\n",
      "\u001b[1;32m~\\Anaconda3\\lib\\site-packages\\scipy\\optimize\\_dual_annealing.py\u001b[0m in \u001b[0;36mreset\u001b[1;34m(self, func_wrapper, rand_state, x0)\u001b[0m\n\u001b[0;32m    175\u001b[0m             \u001b[1;32mif\u001b[0m \u001b[0mself\u001b[0m\u001b[1;33m.\u001b[0m\u001b[0mcurrent_energy\u001b[0m \u001b[1;32mis\u001b[0m \u001b[1;32mNone\u001b[0m\u001b[1;33m:\u001b[0m\u001b[1;33m\u001b[0m\u001b[1;33m\u001b[0m\u001b[0m\n\u001b[0;32m    176\u001b[0m                 \u001b[1;32mraise\u001b[0m \u001b[0mValueError\u001b[0m\u001b[1;33m(\u001b[0m\u001b[1;34m'Objective function is returning None'\u001b[0m\u001b[1;33m)\u001b[0m\u001b[1;33m\u001b[0m\u001b[1;33m\u001b[0m\u001b[0m\n\u001b[1;32m--> 177\u001b[1;33m             if (not np.isfinite(self.current_energy) or np.isnan(\n\u001b[0m\u001b[0;32m    178\u001b[0m                     self.current_energy)):\n\u001b[0;32m    179\u001b[0m                 \u001b[1;32mif\u001b[0m \u001b[0mreinit_counter\u001b[0m \u001b[1;33m>=\u001b[0m \u001b[0mEnergyState\u001b[0m\u001b[1;33m.\u001b[0m\u001b[0mMAX_REINIT_COUNT\u001b[0m\u001b[1;33m:\u001b[0m\u001b[1;33m\u001b[0m\u001b[1;33m\u001b[0m\u001b[0m\n",
      "\u001b[1;31mValueError\u001b[0m: The truth value of an array with more than one element is ambiguous. Use a.any() or a.all()"
     ]
    }
   ],
   "source": [
    "evidencias=find_evidence(GR, 10, 4)\n",
    "print(evidencias)"
   ]
  },
  {
   "cell_type": "code",
   "execution_count": null,
   "metadata": {},
   "outputs": [],
   "source": []
  }
 ],
 "metadata": {
  "kernelspec": {
   "display_name": "Python 3",
   "language": "python",
   "name": "python3"
  },
  "language_info": {
   "codemirror_mode": {
    "name": "ipython",
    "version": 3
   },
   "file_extension": ".py",
   "mimetype": "text/x-python",
   "name": "python",
   "nbconvert_exporter": "python",
   "pygments_lexer": "ipython3",
   "version": "3.7.1"
  }
 },
 "nbformat": 4,
 "nbformat_minor": 2
}
