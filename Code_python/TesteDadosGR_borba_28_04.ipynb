{
 "cells": [
  {
   "cell_type": "markdown",
   "metadata": {},
   "source": [
    "## Teste de Dados Geológicos ##\n",
    "\n",
    "Este notebook faz testes com os dados geológicos fornecidos pelo Humberto. O conjunto de dados está estruturado da seguinte forma: \n",
    "- 2259 registros contendo dados de:profundidade, densidade, resistividade média a cada 2.5 ft, resistividade, raios gamma e petecial espontâneo.\n",
    "- Profundidade, em metros, indo de 68.2 até 519.8 com intervlo de 0.2 m."
   ]
  },
  {
   "cell_type": "code",
   "execution_count": 1,
   "metadata": {},
   "outputs": [],
   "source": [
    "## Import all required libraries \n",
    "import numpy as np\n",
    "## Used to find border evidences\n",
    "import math\n",
    "from scipy.optimize import dual_annealing"
   ]
  },
  {
   "cell_type": "code",
   "execution_count": 2,
   "metadata": {},
   "outputs": [],
   "source": [
    "## This function computes the indexes from a list where the condition is true\n",
    "## call: get_indexes(condicao) - example: get_indexes(x>0)\n",
    "\n",
    "def get_indexes(self):\n",
    "    try:\n",
    "        self = list(iter(self))\n",
    "    except TypeError as e:\n",
    "        raise Exception(\"\"\"'get_indexes' method can only be applied to iterables.{}\"\"\".format(str(e)))\n",
    "    indices = [i for i, x in enumerate(self) if bool(x) == True]\n",
    "    return(indices)"
   ]
  },
  {
   "cell_type": "code",
   "execution_count": 3,
   "metadata": {},
   "outputs": [],
   "source": [
    "## O que faz esta função ???\n",
    "\n",
    "def func_obj_l_L_mu(j, z, n, matdf1, matdf2):\n",
    "    j = int(np.round(j))\n",
    "    mue = matdf1[j, 0]\n",
    "    Le  = matdf1[j, 1]\n",
    "    mud = matdf2[j, 0]\n",
    "    Ld  = matdf2[j, 1]\n",
    "    somaze = sum(z[0: j]) / j\n",
    "    somalogze = sum(np.log(z[0: j])) / j\n",
    "    somazd = sum(z[j: n]) / (n - j)\n",
    "    somalogzd = sum(np.log(z[j: n])) / (n - j)\n",
    "    #\n",
    "    aux1 = Le * np.log(Le)\n",
    "    aux2 = Le * somalogze\n",
    "    aux3 = Le * np.log(mue)\n",
    "    aux4 = np.log(math.gamma(Le))\n",
    "    aux5 = (Le / mue) *  somaze\n",
    "    #\n",
    "    aux6  = Ld * np.log(Ld)\n",
    "    aux7  = Ld * somalogzd\n",
    "    aux8  = Ld * np.log(mud)\n",
    "    aux9  = np.log(math.gamma(Ld))\n",
    "    aux10 = (Ld / mud) * somazd\n",
    "    a1 =  aux1 + aux2 - aux3 - aux4 - aux5\n",
    "    a2 =  aux6 + aux7 - aux8 - aux9 - aux10\n",
    "    #### AAB  Beware! The signal is negative because GenSA finds the point of minimum\n",
    "    func_obj_l_L_mu = -(j * a1 + (n - j) * a2)\n",
    "    return func_obj_l_L_mu"
   ]
  },
  {
   "cell_type": "code",
   "execution_count": 4,
   "metadata": {},
   "outputs": [],
   "source": [
    "## Finds border evidences\n",
    "\n",
    "def find_evidence(GR, window):\n",
    "    print(\"Computing evidence - this might take a while\")\n",
    "    Le = 4\n",
    "    Ld = 4\n",
    "    z = np.zeros(window)\n",
    "    inicio=0\n",
    "    final=window\n",
    "    num_trechos = window\n",
    "    for k in range(num_trechos):\n",
    "        #print(k)\n",
    "        z[k]=GR[k]\n",
    "    matdf1 =  np.zeros((window, 2))\n",
    "    matdf2 =  np.zeros((window, 2))\n",
    "    evidencias= np.zeros((num_trechos))\n",
    "    for k in range(1, num_trechos):\n",
    "        mue = sum(z[0:k]) / k\n",
    "        matdf1[k, 0] = mue\n",
    "        matdf1[k, 1] = Le\n",
    "        mud = sum(z[k: window]) / (window - k)\n",
    "        matdf2[k, 0] = mud\n",
    "        matdf2[k, 1] = Ld\n",
    "        ### Defini 1 para não dar divisão por zero dentro da funcao func_obj_l_L_mu\n",
    "        lw = [1]\n",
    "        up = [window - 1]\n",
    "    # fora do for k\n",
    "    ret = dual_annealing(lambda x:func_obj_l_L_mu(x,z, window, matdf1, matdf2), bounds=list(zip(lw, up)), seed=1234)\n",
    "    evidencias = np.round(ret.x)\n",
    "    return evidencias, matdf1, matdf2"
   ]
  },
  {
   "cell_type": "code",
   "execution_count": 5,
   "metadata": {},
   "outputs": [
    {
     "name": "stdout",
     "output_type": "stream",
     "text": [
      "40\n"
     ]
    }
   ],
   "source": [
    "#GR=[1,1,1,1,2,2,2,2,2,2,2,2,1,1,1,1,1,1,2,2,2,2,1,1,1,1,1,1,2,2,2,2,2,2,1,1,1,1,1,1]\n",
    "GR=[1,1,1,1,1,1,1,1,1,1,1,1,1,1,1,1,1,1,2,2,2,2,2,2,2,2,2,2,2,2,2,2,2,2,2,2,2,2,2,2]\n",
    "#z=GR[0:10]\n",
    "N = len(GR)\n",
    "print(N)\n"
   ]
  },
  {
   "cell_type": "code",
   "execution_count": 6,
   "metadata": {},
   "outputs": [
    {
     "name": "stdout",
     "output_type": "stream",
     "text": [
      "Computing evidence - this might take a while\n",
      "[18.]\n"
     ]
    }
   ],
   "source": [
    "evidencias, matdf1, matdf2 =find_evidence(GR, N)\n",
    "# O valor da evidencia é 18, como gerado no dados de entrada GR\\\n",
    "# Assim o GenSA retornou o valor correto\n",
    "print(evidencias)"
   ]
  },
  {
   "cell_type": "code",
   "execution_count": 8,
   "metadata": {},
   "outputs": [
    {
     "data": {
      "image/png": "[encoded data removed]",
      "text/plain": [
       "<Figure size 432x288 with 1 Axes>"
      ]
     },
     "metadata": {
      "needs_background": "light"
     },
     "output_type": "display_data"
    }
   ],
   "source": [
    "# Plota o gráfico de func_obj_l_L_mu\n",
    "import matplotlib.pyplot as plt\n",
    "ti = 0\n",
    "tf = N\n",
    "# Solução exata cuidado estou começãndo do 1 para não ter divisão por zero\n",
    "t      = np.linspace(0, 0, N)\n",
    "sol_ex = np.linspace(0, 0, N)\n",
    "for i in range(1, N):\n",
    "    # Novamente o sinal aqui é para corrigir a troca que fizemos dentro da função\n",
    "    t[i] = i\n",
    "    sol_ex[i] = -func_obj_l_L_mu(t[i],GR, N, matdf1, matdf2)\n",
    "# Plot\n",
    "# Começei em 1 para o gráfico ficar melhor pois sol_ex[0] = 0\n",
    "plt.plot(t[1:N], sol_ex[1:N])\n",
    "plt.title('Função de verossimilhança')\n",
    "plt.xlabel('pixel')\n",
    "plt.ylabel('l')\n",
    "plt.grid(alpha=.3, linestyle='--')\n",
    "plt.show()"
   ]
  },
  {
   "cell_type": "code",
   "execution_count": null,
   "metadata": {},
   "outputs": [],
   "source": []
  },
  {
   "cell_type": "code",
   "execution_count": null,
   "metadata": {},
   "outputs": [],
   "source": []
  }
 ],
 "metadata": {
  "kernelspec": {
   "display_name": "Python 3",
   "language": "python",
   "name": "python3"
  },
  "language_info": {
   "codemirror_mode": {
    "name": "ipython",
    "version": 3
   },
   "file_extension": ".py",
   "mimetype": "text/x-python",
   "name": "python",
   "nbconvert_exporter": "python",
   "pygments_lexer": "ipython3",
   "version": "3.7.4"
  }
 },
 "nbformat": 4,
 "nbformat_minor": 2
}
