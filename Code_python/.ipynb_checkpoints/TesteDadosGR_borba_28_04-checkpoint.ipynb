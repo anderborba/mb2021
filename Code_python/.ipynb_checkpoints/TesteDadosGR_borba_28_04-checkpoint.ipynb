{
 "cells": [
  {
   "cell_type": "markdown",
   "metadata": {},
   "source": [
    "## Teste de Dados Geológicos ##\n",
    "\n",
    "Este notebook faz testes com os dados geológicos fornecidos pelo Humberto. O conjunto de dados está estruturado da seguinte forma: \n",
    "- 2259 registros contendo dados de:profundidade, densidade, resistividade média a cada 2.5 ft, resistividade, raios gamma e petecial espontâneo.\n",
    "- Profundidade, em metros, indo de 68.2 até 519.8 com intervlo de 0.2 m."
   ]
  },
  {
   "cell_type": "code",
   "execution_count": 2,
   "metadata": {},
   "outputs": [],
   "source": [
    "## Import all required libraries \n",
    "import numpy as np\n",
    "## Used to find border evidences\n",
    "import math\n",
    "from scipy.optimize import dual_annealing"
   ]
  },
  {
   "cell_type": "code",
   "execution_count": 3,
   "metadata": {},
   "outputs": [],
   "source": [
    "## This function computes the indexes from a list where the condition is true\n",
    "## call: get_indexes(condicao) - example: get_indexes(x>0)\n",
    "\n",
    "def get_indexes(self):\n",
    "    try:\n",
    "        self = list(iter(self))\n",
    "    except TypeError as e:\n",
    "        raise Exception(\"\"\"'get_indexes' method can only be applied to iterables.{}\"\"\".format(str(e)))\n",
    "    indices = [i for i, x in enumerate(self) if bool(x) == True]\n",
    "    return(indices)"
   ]
  },
  {
   "cell_type": "code",
   "execution_count": 50,
   "metadata": {},
   "outputs": [],
   "source": [
    "## O que faz esta função ???\n",
    "\n",
    "def func_obj_l_L_mu(j, z, n, matdf1, matdf2):\n",
    "    j = int(np.round(j))\n",
    "    mue = matdf1[j, 0]\n",
    "    Le  = matdf1[j, 1]\n",
    "    mud = matdf2[j, 0]\n",
    "    Ld  = matdf2[j, 1]\n",
    "    somaze = sum(z[0: j]) / j\n",
    "    somalogze = sum(np.log(z[0: j])) / j\n",
    "    somazd = sum(z[j: n]) / (n - j)\n",
    "    somalogzd = sum(np.log(z[j: n])) / (n - j)\n",
    "    #\n",
    "    aux1 = Le * np.log(Le)\n",
    "    aux2 = Le * somalogze\n",
    "    aux3 = Le * np.log(mue)\n",
    "    aux4 = np.log(math.gamma(Le))\n",
    "    aux5 = (Le / mue) *  somaze\n",
    "    #\n",
    "    aux6  = Ld * np.log(Ld)\n",
    "    aux7  = Ld * somalogzd\n",
    "    aux8  = Ld * np.log(mud)\n",
    "    aux9  = np.log(math.gamma(Ld))\n",
    "    aux10 = (Ld / mud) * somazd\n",
    "    a1 =  aux1 + aux2 - aux3 - aux4 - aux5\n",
    "    a2 =  aux6 + aux7 - aux8 - aux9 - aux10\n",
    "    #### AAB  Beware! The signal is negative because GenSA finds the point of minimum\n",
    "    func_obj_l_L_mu = -(j * a1 + (n - j) * a2)\n",
    "    return func_obj_l_L_mu"
   ]
  },
  {
   "cell_type": "code",
   "execution_count": 55,
   "metadata": {},
   "outputs": [],
   "source": [
    "## Finds border evidences\n",
    "\n",
    "def find_evidence(GR, window):\n",
    "    print(\"Computing evidence - this might take a while\")\n",
    "    Le = 4\n",
    "    Ld = 4\n",
    "    z = np.zeros(window)\n",
    "    inicio=0\n",
    "    final=window\n",
    "    num_trechos = window\n",
    "    for k in range(num_trechos):\n",
    "        #print(k)\n",
    "        z[k]=GR[k]\n",
    "    matdf1 =  np.zeros((window, 2))\n",
    "    matdf2 =  np.zeros((window, 2))\n",
    "    evidencias= np.zeros((num_trechos))\n",
    "    for k in range(1, num_trechos):\n",
    "        mue = sum(z[0:k]) / k\n",
    "        matdf1[k, 0] = mue\n",
    "        matdf1[k, 1] = Le\n",
    "        mud = sum(z[k: window]) / (window - k)\n",
    "        matdf2[k, 0] = mud\n",
    "        matdf2[k, 1] = Ld\n",
    "        ### Defini 1 para não dar divisão por zero dentro da funcao func_obj_l_L_mu\n",
    "        lw = [1]\n",
    "        up = [window - 1]\n",
    "    # fora do for k\n",
    "    ret = dual_annealing(lambda x:func_obj_l_L_mu(x,z, window, matdf1, matdf2), bounds=list(zip(lw, up)), seed=1234)\n",
    "    evidencias = np.round(ret.x)\n",
    "    return evidencias, matdf1, matdf2"
   ]
  },
  {
   "cell_type": "code",
   "execution_count": 56,
   "metadata": {},
   "outputs": [
    {
     "name": "stdout",
     "output_type": "stream",
     "text": [
      "40\n"
     ]
    }
   ],
   "source": [
    "#GR=[1,1,1,1,2,2,2,2,2,2,2,2,1,1,1,1,1,1,2,2,2,2,1,1,1,1,1,1,2,2,2,2,2,2,1,1,1,1,1,1]\n",
    "GR=[1,1,1,1,1,1,1,1,1,1,1,1,1,1,1,1,1,1,2,2,2,2,2,2,2,2,2,2,2,2,2,2,2,2,2,2,2,2,2,2]\n",
    "#z=GR[0:10]\n",
    "N = len(GR)\n",
    "print(N)\n"
   ]
  },
  {
   "cell_type": "code",
   "execution_count": 58,
   "metadata": {},
   "outputs": [
    {
     "name": "stdout",
     "output_type": "stream",
     "text": [
      "Computing evidence - this might take a while\n",
      "[18.]\n"
     ]
    }
   ],
   "source": [
    "evidencias, matdf1, matdf2 =find_evidence(GR, N)\n",
    "print(evidencias)"
   ]
  },
  {
   "cell_type": "code",
   "execution_count": 41,
   "metadata": {},
   "outputs": [
    {
     "ename": "NameError",
     "evalue": "name 'k' is not defined",
     "output_type": "error",
     "traceback": [
      "\u001b[0;31m---------------------------------------------------------------------------\u001b[0m",
      "\u001b[0;31mNameError\u001b[0m                                 Traceback (most recent call last)",
      "\u001b[0;32m<ipython-input-41-37173acdb507>\u001b[0m in \u001b[0;36m<module>\u001b[0;34m\u001b[0m\n\u001b[1;32m     12\u001b[0m \u001b[0;32mfor\u001b[0m \u001b[0mi\u001b[0m \u001b[0;32min\u001b[0m \u001b[0mrange\u001b[0m\u001b[0;34m(\u001b[0m\u001b[0;36m1\u001b[0m\u001b[0;34m,\u001b[0m \u001b[0mn\u001b[0m\u001b[0;34m)\u001b[0m\u001b[0;34m:\u001b[0m\u001b[0;34m\u001b[0m\u001b[0;34m\u001b[0m\u001b[0m\n\u001b[1;32m     13\u001b[0m     \u001b[0;31m#sol_ex[i] = t[i]\u001b[0m\u001b[0;34m\u001b[0m\u001b[0;34m\u001b[0m\u001b[0;34m\u001b[0m\u001b[0m\n\u001b[0;32m---> 14\u001b[0;31m     \u001b[0msol_ex\u001b[0m\u001b[0;34m[\u001b[0m\u001b[0mi\u001b[0m\u001b[0;34m]\u001b[0m \u001b[0;34m=\u001b[0m \u001b[0mfunc_obj_l_L_mu\u001b[0m\u001b[0;34m(\u001b[0m\u001b[0mt\u001b[0m\u001b[0;34m[\u001b[0m\u001b[0mi\u001b[0m\u001b[0;34m]\u001b[0m\u001b[0;34m,\u001b[0m\u001b[0mGR\u001b[0m\u001b[0;34m,\u001b[0m \u001b[0mN\u001b[0m\u001b[0;34m,\u001b[0m \u001b[0mmatdf1\u001b[0m\u001b[0;34m,\u001b[0m \u001b[0mmatdf2\u001b[0m\u001b[0;34m)\u001b[0m\u001b[0;34m\u001b[0m\u001b[0;34m\u001b[0m\u001b[0m\n\u001b[0m\u001b[1;32m     15\u001b[0m \u001b[0;31m# Plot\u001b[0m\u001b[0;34m\u001b[0m\u001b[0;34m\u001b[0m\u001b[0;34m\u001b[0m\u001b[0m\n\u001b[1;32m     16\u001b[0m \u001b[0mplt\u001b[0m\u001b[0;34m.\u001b[0m\u001b[0mplot\u001b[0m\u001b[0;34m(\u001b[0m\u001b[0mt\u001b[0m\u001b[0;34m[\u001b[0m\u001b[0;36m1\u001b[0m\u001b[0;34m:\u001b[0m\u001b[0mn\u001b[0m\u001b[0;34m]\u001b[0m\u001b[0;34m,\u001b[0m \u001b[0msol_ex\u001b[0m\u001b[0;34m[\u001b[0m\u001b[0;36m1\u001b[0m\u001b[0;34m:\u001b[0m\u001b[0mn\u001b[0m\u001b[0;34m]\u001b[0m\u001b[0;34m)\u001b[0m\u001b[0;34m\u001b[0m\u001b[0;34m\u001b[0m\u001b[0m\n",
      "\u001b[0;32m<ipython-input-37-05ab9225ee7c>\u001b[0m in \u001b[0;36mfunc_obj_l_L_mu\u001b[0;34m(j, z, n, matdf1, matdf2)\u001b[0m\n\u001b[1;32m      3\u001b[0m \u001b[0;32mdef\u001b[0m \u001b[0mfunc_obj_l_L_mu\u001b[0m\u001b[0;34m(\u001b[0m\u001b[0mj\u001b[0m\u001b[0;34m,\u001b[0m \u001b[0mz\u001b[0m\u001b[0;34m,\u001b[0m \u001b[0mn\u001b[0m\u001b[0;34m,\u001b[0m \u001b[0mmatdf1\u001b[0m\u001b[0;34m,\u001b[0m \u001b[0mmatdf2\u001b[0m\u001b[0;34m)\u001b[0m\u001b[0;34m:\u001b[0m\u001b[0;34m\u001b[0m\u001b[0;34m\u001b[0m\u001b[0m\n\u001b[1;32m      4\u001b[0m     \u001b[0mj\u001b[0m \u001b[0;34m=\u001b[0m \u001b[0mint\u001b[0m\u001b[0;34m(\u001b[0m\u001b[0mnp\u001b[0m\u001b[0;34m.\u001b[0m\u001b[0mround\u001b[0m\u001b[0;34m(\u001b[0m\u001b[0mj\u001b[0m\u001b[0;34m)\u001b[0m\u001b[0;34m)\u001b[0m\u001b[0;34m\u001b[0m\u001b[0;34m\u001b[0m\u001b[0m\n\u001b[0;32m----> 5\u001b[0;31m     \u001b[0mprint\u001b[0m\u001b[0;34m(\u001b[0m\u001b[0mk\u001b[0m\u001b[0;34m)\u001b[0m\u001b[0;34m\u001b[0m\u001b[0;34m\u001b[0m\u001b[0m\n\u001b[0m\u001b[1;32m      6\u001b[0m     \u001b[0mmue\u001b[0m \u001b[0;34m=\u001b[0m \u001b[0mmatdf1\u001b[0m\u001b[0;34m[\u001b[0m\u001b[0mj\u001b[0m\u001b[0;34m,\u001b[0m \u001b[0;36m0\u001b[0m\u001b[0;34m]\u001b[0m\u001b[0;34m\u001b[0m\u001b[0;34m\u001b[0m\u001b[0m\n\u001b[1;32m      7\u001b[0m     \u001b[0mLe\u001b[0m  \u001b[0;34m=\u001b[0m \u001b[0mmatdf1\u001b[0m\u001b[0;34m[\u001b[0m\u001b[0mj\u001b[0m\u001b[0;34m,\u001b[0m \u001b[0;36m1\u001b[0m\u001b[0;34m]\u001b[0m\u001b[0;34m\u001b[0m\u001b[0;34m\u001b[0m\u001b[0m\n",
      "\u001b[0;31mNameError\u001b[0m: name 'k' is not defined"
     ]
    }
   ],
   "source": [
    "import matplotlib.pyplot as plt\n",
    "ti = 0\n",
    "tf = N\n",
    "# n para particionar o intervalo [tf - ti]\n",
    "n = 40\n",
    "h = (tf - ti) / n\n",
    "t      = np.linspace(0, 0, n)\n",
    "sol_ex = np.linspace(0, 0, n)\n",
    "for i in range(0, n ):\n",
    "    t[i] = ti + i * h\n",
    "# Solução exata cuidado estou começãndo do 1 para não ter divisão por zero\n",
    "for i in range(1, n):\n",
    "    #sol_ex[i] = t[i]\n",
    "    sol_ex[i] = func_obj_l_L_mu(t[i],GR, N, matdf1, matdf2)\n",
    "# Plot\n",
    "plt.plot(t[1:n], sol_ex[1:n])\n",
    "plt.title('Função de verossimilhança')\n",
    "plt.xlabel('pixel')\n",
    "plt.ylabel('l')\n",
    "plt.grid(alpha=.3, linestyle='--')\n",
    "plt.show()"
   ]
  },
  {
   "cell_type": "code",
   "execution_count": 42,
   "metadata": {},
   "outputs": [
    {
     "data": {
      "text/plain": [
       "39.0"
      ]
     },
     "execution_count": 42,
     "metadata": {},
     "output_type": "execute_result"
    }
   ],
   "source": [
    "t[39]"
   ]
  },
  {
   "cell_type": "code",
   "execution_count": 85,
   "metadata": {},
   "outputs": [
    {
     "name": "stdout",
     "output_type": "stream",
     "text": [
      "Computing evidence - this might take a while\n",
      "[1. 1. 1. 1. 1. 1. 1. 1. 1. 1. 1. 1. 1. 1. 1. 1. 1. 1. 2. 2. 2. 2. 2. 2.\n",
      " 2. 2. 2. 2. 2. 2. 2. 2. 2. 2. 2. 2. 2. 2. 2. 2.]\n",
      "1\n",
      "1.0\n",
      "1.0\n",
      "2\n",
      "2.0\n",
      "1.0\n",
      "3\n",
      "3.0\n",
      "1.0\n",
      "4\n",
      "4.0\n",
      "1.0\n",
      "5\n",
      "5.0\n",
      "1.0\n",
      "6\n",
      "6.0\n",
      "1.0\n",
      "7\n",
      "7.0\n",
      "1.0\n",
      "8\n",
      "8.0\n",
      "1.0\n",
      "9\n",
      "9.0\n",
      "1.0\n",
      "10\n",
      "10.0\n",
      "1.0\n",
      "11\n",
      "11.0\n",
      "1.0\n",
      "12\n",
      "12.0\n",
      "1.0\n",
      "13\n",
      "13.0\n",
      "1.0\n",
      "14\n",
      "14.0\n",
      "1.0\n",
      "15\n",
      "15.0\n",
      "1.0\n",
      "16\n",
      "16.0\n",
      "1.0\n",
      "17\n",
      "17.0\n",
      "1.0\n",
      "18\n",
      "18.0\n",
      "1.0\n",
      "19\n",
      "20.0\n",
      "1.0526315789473684\n",
      "20\n",
      "22.0\n",
      "1.1\n",
      "21\n",
      "24.0\n",
      "1.1428571428571428\n",
      "22\n",
      "26.0\n",
      "1.1818181818181819\n",
      "23\n",
      "28.0\n",
      "1.2173913043478262\n",
      "24\n",
      "30.0\n",
      "1.25\n",
      "25\n",
      "32.0\n",
      "1.28\n",
      "26\n",
      "34.0\n",
      "1.3076923076923077\n",
      "27\n",
      "36.0\n",
      "1.3333333333333333\n",
      "28\n",
      "38.0\n",
      "1.3571428571428572\n",
      "29\n",
      "40.0\n",
      "1.3793103448275863\n",
      "30\n",
      "42.0\n",
      "1.4\n",
      "31\n",
      "44.0\n",
      "1.4193548387096775\n",
      "32\n",
      "46.0\n",
      "1.4375\n",
      "33\n",
      "48.0\n",
      "1.4545454545454546\n",
      "34\n",
      "50.0\n",
      "1.4705882352941178\n",
      "35\n",
      "52.0\n",
      "1.4857142857142858\n",
      "36\n",
      "54.0\n",
      "1.5\n",
      "37\n",
      "56.0\n",
      "1.5135135135135136\n",
      "38\n",
      "58.0\n",
      "1.5263157894736843\n",
      "39\n",
      "60.0\n",
      "1.5384615384615385\n",
      "[0. 0. 0. 0. 0. 0. 0. 0. 0. 0. 0. 0. 0. 0. 0. 0. 0. 0. 0. 0. 0. 0. 0. 0.\n",
      " 0. 0. 0. 0. 0. 0. 0. 0. 0. 0. 0. 0. 0. 0. 0. 0.]\n"
     ]
    }
   ],
   "source": [
    "evidencias=find_evidence(GR, N)\n",
    "print(evidencias)"
   ]
  },
  {
   "cell_type": "code",
   "execution_count": 49,
   "metadata": {},
   "outputs": [
    {
     "ename": "NameError",
     "evalue": "name 'evidencias' is not defined",
     "output_type": "error",
     "traceback": [
      "\u001b[0;31m---------------------------------------------------------------------------\u001b[0m",
      "\u001b[0;31mNameError\u001b[0m                                 Traceback (most recent call last)",
      "\u001b[0;32m<ipython-input-49-b64abac79642>\u001b[0m in \u001b[0;36m<module>\u001b[0;34m\u001b[0m\n\u001b[0;32m----> 1\u001b[0;31m \u001b[0mprint\u001b[0m\u001b[0;34m(\u001b[0m\u001b[0mevidencias\u001b[0m\u001b[0;34m)\u001b[0m\u001b[0;34m\u001b[0m\u001b[0;34m\u001b[0m\u001b[0m\n\u001b[0m",
      "\u001b[0;31mNameError\u001b[0m: name 'evidencias' is not defined"
     ]
    }
   ],
   "source": [
    "print(evidencias)\n"
   ]
  },
  {
   "cell_type": "code",
   "execution_count": 86,
   "metadata": {},
   "outputs": [
    {
     "data": {
      "text/plain": [
       "1.0526315789473684"
      ]
     },
     "execution_count": 86,
     "metadata": {},
     "output_type": "execute_result"
    }
   ],
   "source": [
    "20/19\n"
   ]
  },
  {
   "cell_type": "code",
   "execution_count": null,
   "metadata": {},
   "outputs": [],
   "source": []
  }
 ],
 "metadata": {
  "kernelspec": {
   "display_name": "Python 3",
   "language": "python",
   "name": "python3"
  },
  "language_info": {
   "codemirror_mode": {
    "name": "ipython",
    "version": 3
   },
   "file_extension": ".py",
   "mimetype": "text/x-python",
   "name": "python",
   "nbconvert_exporter": "python",
   "pygments_lexer": "ipython3",
   "version": "3.7.4"
  }
 },
 "nbformat": 4,
 "nbformat_minor": 2
}
