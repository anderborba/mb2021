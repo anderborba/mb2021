{
 "cells": [
  {
   "cell_type": "markdown",
   "metadata": {},
   "source": [
    "### Fusion of Evidences for Edge Detection in PolSAR Images ###\n",
    "\n",
    "### Package and modules used ###"
   ]
  },
  {
   "cell_type": "code",
   "execution_count": null,
   "metadata": {},
   "outputs": [],
   "source": [
    "### Version 03/08/2021\n",
    "# Article Tengarss 2019\n",
    "# Ref:\n",
    "# A. A. de Borba,\n",
    "# M. Marengoni and\n",
    "# A. C. Frery,\n",
    "# \"Fusion of Evidences for Edge Detection in PolSAR Images,\"\n",
    "# 2019 IEEE Recent Advances in Geoscience and Remote Sensing :\n",
    "# Technologies, Standards and Applications (TENGARSS), 2019, pp. 80-85,\n",
    "# doi: 10.1109/TENGARSS48957.2019.8976040.\n",
    "#\n",
    "# bibtex\n",
    "# @INPROCEEDINGS{8976040,\n",
    "#  author={de Borba, Anderson A. and Marengoni, Maurício and Frery, Alejandro C.},\n",
    "#  booktitle={2019 IEEE Recent Advances in Geoscience and Remote Sensing : Technologies, Standards and Applications (TENGARSS)},\n",
    "#  title={Fusion of Evidences for Edge Detection in PolSAR Images},\n",
    "#  year={2019},\n",
    "#  volume={},\n",
    "#  number={},\n",
    "#  pages={80-85},\n",
    "#  doi={10.1109/TENGARSS48957.2019.8976040}}\n",
    "#\n",
    "## Import all required libraries \n",
    "import numpy as np\n",
    "## Used to read images in the mat format\n",
    "import scipy.io as sio\n",
    "## Used to equalize histograms in images\n",
    "from skimage import exposure\n",
    "## Used to present the images\n",
    "import matplotlib.pyplot as plt\n",
    "## Used to find border evidences\n",
    "import math\n",
    "from scipy.optimize import dual_annealing\n",
    "## Used in the DWT and SWT fusion methods\n",
    "import pywt\n",
    "#\n",
    "### Import mod\n",
    "# see file  /Misc/mod_code_py.pdf\n",
    "#\n",
    "import polsar_basics as pb\n",
    "import polsar_loglikelihood as plk\n",
    "import polsar_fusion as pf\n",
    "import polsar_total_loglikelihood as ptl\n",
    "import polsar_evidence_lib as pel"
   ]
  },
  {
   "cell_type": "markdown",
   "metadata": {},
   "source": [
    "### Functions to read the images and data from regions of interest ###"
   ]
  },
  {
   "cell_type": "code",
   "execution_count": null,
   "metadata": {},
   "outputs": [],
   "source": [
    "## This function defines the source image and all the dat related to the region where we want\n",
    "## to find borders\n",
    "## Defines the ROI center and the ROI boundaries. The ROI is always a quadrilateral defined from the top left corner\n",
    "## in a clockwise direction.\n",
    "def select_data():\n",
    "    print(\"Select the image to be processed:\")\n",
    "    print(\"1.Flevoland - area 1\")\n",
    "    print(\"2.San Francisco\")\n",
    "    opcao=int(input(\"type the option:\"))\n",
    "    if opcao==1:\n",
    "        print(\"Computing Flevoland area - region 1\")\n",
    "        ## Flevoland image\n",
    "        imagem=\"./Data/AirSAR_Flevoland_Enxuto.mat\"\n",
    "        ## values adjusted visually - it needs to be defined more preciselly\n",
    "        ## delta values from the image center to the ROI center\n",
    "        dx=278\n",
    "        dy=64\n",
    "        ## ROI coordinates\n",
    "        x1 = 157;\n",
    "        y1 = 284;\n",
    "        x2 = 309;\n",
    "        y2 = 281;\n",
    "        x3 = 310;\n",
    "        y3 = 327;\n",
    "        x4 = 157;\n",
    "        y4 = 330;\n",
    "        ## inicial angle to start generating the radius\n",
    "        alpha_i= 0.0\n",
    "        ## final angle to start generating the radius\n",
    "        alpha_f= 2 * np.pi\n",
    "        ## slack constant\n",
    "        lim = 14\n",
    "    else:\n",
    "        print(\"Computing San Francisco Bay area - region 1\")\n",
    "        ## San Francisco Bay image\n",
    "        imagem=\"./Data/SanFrancisco_Bay.mat\"\n",
    "        ## values adjusted visually - it needs to be defined more preciselly\n",
    "        ## delta values from the image center to the ROI center\n",
    "        dx=50\n",
    "        dy=-195\n",
    "        ## ROI coordinates\n",
    "        x1 = 180;\n",
    "        y1 = 362;\n",
    "        x2 = 244;\n",
    "        y2 = 354;\n",
    "        x3 = 250;\n",
    "        y3 = 420;\n",
    "        x4 = 188;\n",
    "        y4 = 427;\n",
    "        ## inicial angle to start generating the radius\n",
    "        alpha_i= np.pi\n",
    "        ## final angle to start generating the radius\n",
    "        alpha_f= 3 * np.pi / 2\n",
    "        ## slack constant\n",
    "        lim = 25\n",
    "    ## Radius length\n",
    "    RAIO=120\n",
    "    ## Number of radius used to find evidence considering a whole circunference\n",
    "    NUM_RAIOS=100\n",
    "    ## adjust the number of radius based on the angle defined above\n",
    "    if (alpha_f-alpha_i)!=(2*np.pi):\n",
    "        NUM_RAIOS=int(NUM_RAIOS*(alpha_f-alpha_i)/(2*np.pi))\n",
    "    gt_coords=[[x1, y1], [x2, y2], [x3, y3], [x4, y4]]\n",
    "\n",
    "    return imagem, dx, dy, RAIO, NUM_RAIOS, alpha_i, alpha_f, lim, gt_coords"
   ]
  },
  {
   "cell_type": "markdown",
   "metadata": {},
   "source": [
    "## Metrics ##"
   ]
  },
  {
   "cell_type": "markdown",
   "metadata": {},
   "source": [
    "### The above code works as main to tengarss2019 codes ###"
   ]
  },
  {
   "cell_type": "code",
   "execution_count": null,
   "metadata": {
    "scrolled": true
   },
   "outputs": [],
   "source": [
    "## Define the image and the data from the ROI in the image\n",
    "imagem, dx, dy, RAIO, NUM_RAIOS, alpha_i, alpha_f, lim, gt_coords = select_data()\n",
    "#\n",
    "## Reads the image and return the image, its shape and the number of channels\n",
    "img, nrows, ncols, nc = pb.le_imagem(imagem)\n",
    "#\n",
    "## Plot parameter\n",
    "img_rt = nrows/ncols\n",
    "#\n",
    "## Uses the Pauli decomposition to generate a visible image\n",
    "PI = pb.show_Pauli(img, 1, 0)\n",
    "#\n",
    "## Define the radius in the ROI\n",
    "x0, y0, xr, yr = pb.define_radiais(RAIO, NUM_RAIOS, dx, dy, nrows, ncols, alpha_i, alpha_f)\n",
    "\n",
    "MXC, MYC, MY, IT, PI = pb.desenha_raios(ncols, nrows, nc, RAIO, NUM_RAIOS, img, PI, x0, y0, xr, yr)\n",
    "#\n",
    "## Define the number of channels (intensity channels) to be used to find evidence\n",
    "## and realize the fusion in the ROI\n",
    "ncanal = 3\n",
    "evidencias = np.zeros((NUM_RAIOS, ncanal))\n",
    "#\n",
    "# Find the evidences\n",
    "evidencias[:, 0 : ncanal] = pel.find_evidence(RAIO, NUM_RAIOS, ncanal, MY, lim)\n",
    "## Put the evidences in an image\n",
    "IM = pel.add_evidence(nrows, ncols, ncanal, evidencias, NUM_RAIOS, MXC, MYC)\n",
    "#\n",
    "## Computes fusion using mean - metodo = 1\n",
    "MEDIA = pf.fusao(IM, 1, NUM_RAIOS)\n",
    "#\n",
    "## Computes fusion using pca - metodo = 2\n",
    "PCA = pf.fusao(IM, 2, NUM_RAIOS)\n",
    "#\n",
    "## Computes fusion using ROC - metodo = 3\n",
    "ROC = pf.fusao(IM, 3, NUM_RAIOS)\n",
    "#\n",
    "## Testing fusion using SVD - metodo = 4\n",
    "SVD = pf.fusao(IM, 4, NUM_RAIOS)\n",
    "#\n",
    "## Testing fusion using SWT - metodo = 5\n",
    "SWT = pf.fusao(IM, 5, NUM_RAIOS)\n",
    "#\n",
    "## Testing fusion using DWT - metodo = 6\n",
    "DWT = pf.fusao(IM, 6, NUM_RAIOS)"
   ]
  },
  {
   "cell_type": "code",
   "execution_count": null,
   "metadata": {},
   "outputs": [],
   "source": [
    "## Shows the evidence for the hh channel\n",
    "\n",
    "pel.show_evidence(PI, NUM_RAIOS, MXC, MYC, img_rt, evidencias, 0)"
   ]
  },
  {
   "cell_type": "code",
   "execution_count": null,
   "metadata": {},
   "outputs": [],
   "source": [
    "## Shows the evidence for the hv channel\n",
    "pel.show_evidence(PI, NUM_RAIOS, MXC, MYC, img_rt, evidencias, 1)"
   ]
  },
  {
   "cell_type": "code",
   "execution_count": null,
   "metadata": {},
   "outputs": [],
   "source": [
    "## Shows the evidence for the vv channel\n",
    "pel.show_evidence(PI, NUM_RAIOS, MXC, MYC, img_rt, evidencias, 0)"
   ]
  },
  {
   "cell_type": "code",
   "execution_count": null,
   "metadata": {},
   "outputs": [],
   "source": [
    "## Shows the mean fusion image\n",
    "pf.show_fusion_evidence(PI, nrows, ncols, MEDIA, img_rt)\n"
   ]
  },
  {
   "cell_type": "code",
   "execution_count": null,
   "metadata": {},
   "outputs": [],
   "source": [
    "## Shows the PCA fusion image\n",
    "pf.show_fusion_evidence(PI, nrows, ncols, PCA, img_rt)"
   ]
  },
  {
   "cell_type": "code",
   "execution_count": null,
   "metadata": {},
   "outputs": [],
   "source": [
    "## Shows the ROC fusion image\n",
    "pf.show_fusion_evidence(PI, nrows, ncols, ROC, img_rt)"
   ]
  },
  {
   "cell_type": "code",
   "execution_count": null,
   "metadata": {},
   "outputs": [],
   "source": [
    "## Shows the DWT fusion image\n",
    "pf.show_fusion_evidence(PI, nrows, ncols, DWT, img_rt)"
   ]
  },
  {
   "cell_type": "code",
   "execution_count": null,
   "metadata": {},
   "outputs": [],
   "source": [
    "## Shows the SWT fusion image\n",
    "pf.show_fusion_evidence(PI, nrows, ncols, SWT, img_rt)"
   ]
  },
  {
   "cell_type": "code",
   "execution_count": null,
   "metadata": {},
   "outputs": [],
   "source": [
    "## Shows the SVD fusion image\n",
    "pf.show_fusion_evidence(PI, nrows, ncols, SVD, img_rt)"
   ]
  }
 ],
 "metadata": {
  "kernelspec": {
   "display_name": "Python 3",
   "language": "python",
   "name": "python3"
  },
  "language_info": {
   "codemirror_mode": {
    "name": "ipython",
    "version": 3
   },
   "file_extension": ".py",
   "mimetype": "text/x-python",
   "name": "python",
   "nbconvert_exporter": "python",
   "pygments_lexer": "ipython3",
   "version": "3.7.4"
  }
 },
 "nbformat": 4,
 "nbformat_minor": 2
}
